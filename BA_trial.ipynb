{
 "cells": [
  {
   "cell_type": "code",
   "execution_count": 1,
   "metadata": {},
   "outputs": [
    {
     "name": "stderr",
     "output_type": "stream",
     "text": [
      "[nltk_data] Downloading package averaged_perceptron_tagger to\n",
      "[nltk_data]     C:\\Users\\Administrator\\AppData\\Roaming\\nltk_data...\n",
      "[nltk_data]   Package averaged_perceptron_tagger is already up-to-\n",
      "[nltk_data]       date!\n",
      "[nltk_data] Downloading package maxent_ne_chunker to\n",
      "[nltk_data]     C:\\Users\\Administrator\\AppData\\Roaming\\nltk_data...\n",
      "[nltk_data]   Package maxent_ne_chunker is already up-to-date!\n",
      "[nltk_data] Downloading package words to\n",
      "[nltk_data]     C:\\Users\\Administrator\\AppData\\Roaming\\nltk_data...\n",
      "[nltk_data]   Package words is already up-to-date!\n",
      "[nltk_data] Downloading package vader_lexicon to\n",
      "[nltk_data]     C:\\Users\\Administrator\\AppData\\Roaming\\nltk_data...\n",
      "[nltk_data]   Package vader_lexicon is already up-to-date!\n"
     ]
    },
    {
     "data": {
      "text/plain": [
       "True"
      ]
     },
     "execution_count": 1,
     "metadata": {},
     "output_type": "execute_result"
    }
   ],
   "source": [
    "import requests\n",
    "from bs4 import BeautifulSoup\n",
    "import pandas as pd\n",
    "import numpy as np\n",
    "import matplotlib.pyplot as plt\n",
    "\n",
    "import nltk\n",
    "nltk.download('averaged_perceptron_tagger')\n",
    "nltk.download('maxent_ne_chunker')\n",
    "nltk.download('words')\n",
    "nltk.download('vader_lexicon')"
   ]
  },
  {
   "cell_type": "code",
   "execution_count": 2,
   "metadata": {},
   "outputs": [
    {
     "name": "stdout",
     "output_type": "stream",
     "text": [
      "Scraping page 1\n",
      "   ---> 100 total reviews\n",
      "Scraping page 2\n",
      "   ---> 200 total reviews\n",
      "Scraping page 3\n",
      "   ---> 300 total reviews\n",
      "Scraping page 4\n",
      "   ---> 400 total reviews\n",
      "Scraping page 5\n",
      "   ---> 500 total reviews\n",
      "Scraping page 6\n",
      "   ---> 600 total reviews\n",
      "Scraping page 7\n",
      "   ---> 700 total reviews\n",
      "Scraping page 8\n",
      "   ---> 800 total reviews\n",
      "Scraping page 9\n",
      "   ---> 900 total reviews\n",
      "Scraping page 10\n",
      "   ---> 1000 total reviews\n"
     ]
    }
   ],
   "source": [
    "base_url = \"https://www.airlinequality.com/airline-reviews/british-airways\"\n",
    "pages = 10\n",
    "page_size = 100\n",
    "\n",
    "reviews = []\n",
    "# for i in range(1, pages + 1):\n",
    "for i in range(1, pages + 1):\n",
    "\n",
    "    print(f\"Scraping page {i}\")\n",
    "\n",
    "    # Create URL to collect links from paginated data\n",
    "    url = f\"{base_url}/page/{i}/?sortby=post_date%3ADesc&pagesize={page_size}\"\n",
    "\n",
    "    # Collect HTML data from this page\n",
    "    response = requests.get(url)\n",
    "\n",
    "    # Parse content\n",
    "    content = response.content\n",
    "    parsed_content = BeautifulSoup(content, 'html.parser')\n",
    "    for para in parsed_content.find_all(\"div\", {\"class\": \"text_content\"}):\n",
    "        reviews.append(para.get_text())\n",
    "    \n",
    "    print(f\"   ---> {len(reviews)} total reviews\")"
   ]
  },
  {
   "cell_type": "code",
   "execution_count": 3,
   "metadata": {},
   "outputs": [
    {
     "data": {
      "text/html": [
       "<div>\n",
       "<style scoped>\n",
       "    .dataframe tbody tr th:only-of-type {\n",
       "        vertical-align: middle;\n",
       "    }\n",
       "\n",
       "    .dataframe tbody tr th {\n",
       "        vertical-align: top;\n",
       "    }\n",
       "\n",
       "    .dataframe thead th {\n",
       "        text-align: right;\n",
       "    }\n",
       "</style>\n",
       "<table border=\"1\" class=\"dataframe\">\n",
       "  <thead>\n",
       "    <tr style=\"text-align: right;\">\n",
       "      <th></th>\n",
       "      <th>reviews</th>\n",
       "    </tr>\n",
       "  </thead>\n",
       "  <tbody>\n",
       "    <tr>\n",
       "      <th>0</th>\n",
       "      <td>✅ Trip Verified | Our connecting flight from L...</td>\n",
       "    </tr>\n",
       "    <tr>\n",
       "      <th>1</th>\n",
       "      <td>✅ Trip Verified |   The worst airline I have e...</td>\n",
       "    </tr>\n",
       "    <tr>\n",
       "      <th>2</th>\n",
       "      <td>✅ Trip Verified |   Excellent service levels, ...</td>\n",
       "    </tr>\n",
       "    <tr>\n",
       "      <th>3</th>\n",
       "      <td>Not Verified |  Booked a very special holiday ...</td>\n",
       "    </tr>\n",
       "    <tr>\n",
       "      <th>4</th>\n",
       "      <td>Not Verified | Just returned from Chicago, fle...</td>\n",
       "    </tr>\n",
       "  </tbody>\n",
       "</table>\n",
       "</div>"
      ],
      "text/plain": [
       "                                             reviews\n",
       "0  ✅ Trip Verified | Our connecting flight from L...\n",
       "1  ✅ Trip Verified |   The worst airline I have e...\n",
       "2  ✅ Trip Verified |   Excellent service levels, ...\n",
       "3  Not Verified |  Booked a very special holiday ...\n",
       "4  Not Verified | Just returned from Chicago, fle..."
      ]
     },
     "execution_count": 3,
     "metadata": {},
     "output_type": "execute_result"
    }
   ],
   "source": [
    "df = pd.DataFrame()\n",
    "df[\"reviews\"] = reviews\n",
    "df. head()"
   ]
  },
  {
   "cell_type": "code",
   "execution_count": 4,
   "metadata": {},
   "outputs": [],
   "source": [
    "# saving data to csv file\n",
    "df.to_csv(\"data/BA_reviews.csv\")"
   ]
  },
  {
   "cell_type": "code",
   "execution_count": 5,
   "metadata": {},
   "outputs": [
    {
     "data": {
      "text/html": [
       "<div>\n",
       "<style scoped>\n",
       "    .dataframe tbody tr th:only-of-type {\n",
       "        vertical-align: middle;\n",
       "    }\n",
       "\n",
       "    .dataframe tbody tr th {\n",
       "        vertical-align: top;\n",
       "    }\n",
       "\n",
       "    .dataframe thead th {\n",
       "        text-align: right;\n",
       "    }\n",
       "</style>\n",
       "<table border=\"1\" class=\"dataframe\">\n",
       "  <thead>\n",
       "    <tr style=\"text-align: right;\">\n",
       "      <th></th>\n",
       "      <th>Unnamed: 0</th>\n",
       "      <th>reviews</th>\n",
       "    </tr>\n",
       "  </thead>\n",
       "  <tbody>\n",
       "    <tr>\n",
       "      <th>0</th>\n",
       "      <td>0</td>\n",
       "      <td>✅ Trip Verified | Our connecting flight from L...</td>\n",
       "    </tr>\n",
       "    <tr>\n",
       "      <th>1</th>\n",
       "      <td>1</td>\n",
       "      <td>✅ Trip Verified |   The worst airline I have e...</td>\n",
       "    </tr>\n",
       "    <tr>\n",
       "      <th>2</th>\n",
       "      <td>2</td>\n",
       "      <td>✅ Trip Verified |   Excellent service levels, ...</td>\n",
       "    </tr>\n",
       "    <tr>\n",
       "      <th>3</th>\n",
       "      <td>3</td>\n",
       "      <td>Not Verified |  Booked a very special holiday ...</td>\n",
       "    </tr>\n",
       "    <tr>\n",
       "      <th>4</th>\n",
       "      <td>4</td>\n",
       "      <td>Not Verified | Just returned from Chicago, fle...</td>\n",
       "    </tr>\n",
       "  </tbody>\n",
       "</table>\n",
       "</div>"
      ],
      "text/plain": [
       "   Unnamed: 0                                            reviews\n",
       "0           0  ✅ Trip Verified | Our connecting flight from L...\n",
       "1           1  ✅ Trip Verified |   The worst airline I have e...\n",
       "2           2  ✅ Trip Verified |   Excellent service levels, ...\n",
       "3           3  Not Verified |  Booked a very special holiday ...\n",
       "4           4  Not Verified | Just returned from Chicago, fle..."
      ]
     },
     "execution_count": 5,
     "metadata": {},
     "output_type": "execute_result"
    }
   ],
   "source": [
    "df = pd.read_csv('data/BA_reviews.csv')\n",
    "df.head()"
   ]
  },
  {
   "cell_type": "code",
   "execution_count": 8,
   "metadata": {},
   "outputs": [],
   "source": [
    "df.rename(columns={'Unnamed: 0': 'id'}, inplace=True)"
   ]
  },
  {
   "cell_type": "code",
   "execution_count": 10,
   "metadata": {},
   "outputs": [
    {
     "name": "stdout",
     "output_type": "stream",
     "text": [
      "✅ Trip Verified |  Late boarding led to a one hour flight leaving two hours late. A single BA staff member turned up to board a full flight shortly before the flight was due to depart. There had been no previous announcement of the delay. Once on board the captain blamed Frankfurt ground staff for delaying takeoff when clearly late boarding had resulted in a missed departure slot.\n"
     ]
    }
   ],
   "source": [
    "# printing a sample review\n",
    "example = df['reviews'][52]\n",
    "print(example)"
   ]
  },
  {
   "cell_type": "code",
   "execution_count": 11,
   "metadata": {},
   "outputs": [
    {
     "data": {
      "text/plain": [
       "['✅', 'Trip', 'Verified', '|', 'Late', 'boarding', 'led', 'to', 'a', 'one']"
      ]
     },
     "execution_count": 11,
     "metadata": {},
     "output_type": "execute_result"
    }
   ],
   "source": [
    "# tokenizing review with nltk\n",
    "tokens = nltk.word_tokenize(example)\n",
    "tokens[:10]"
   ]
  },
  {
   "cell_type": "code",
   "execution_count": 12,
   "metadata": {},
   "outputs": [
    {
     "data": {
      "text/plain": [
       "[('✅', 'JJ'),\n",
       " ('Trip', 'NNP'),\n",
       " ('Verified', 'NNP'),\n",
       " ('|', 'NNP'),\n",
       " ('Late', 'NNP'),\n",
       " ('boarding', 'NN'),\n",
       " ('led', 'VBD'),\n",
       " ('to', 'TO'),\n",
       " ('a', 'DT'),\n",
       " ('one', 'CD')]"
      ]
     },
     "execution_count": 12,
     "metadata": {},
     "output_type": "execute_result"
    }
   ],
   "source": [
    "tagged = nltk.pos_tag(tokens)\n",
    "tagged[:10]"
   ]
  },
  {
   "cell_type": "code",
   "execution_count": 13,
   "metadata": {},
   "outputs": [
    {
     "name": "stdout",
     "output_type": "stream",
     "text": [
      "(S\n",
      "  ✅/JJ\n",
      "  (PERSON Trip/NNP Verified/NNP)\n",
      "  |/NNP\n",
      "  Late/NNP\n",
      "  boarding/NN\n",
      "  led/VBD\n",
      "  to/TO\n",
      "  a/DT\n",
      "  one/CD\n",
      "  hour/NN\n",
      "  flight/NN\n",
      "  leaving/VBG\n",
      "  two/CD\n",
      "  hours/NNS\n",
      "  late/RB\n",
      "  ./.\n",
      "  A/DT\n",
      "  single/JJ\n",
      "  BA/NNP\n",
      "  staff/NN\n",
      "  member/NN\n",
      "  turned/VBD\n",
      "  up/RP\n",
      "  to/TO\n",
      "  board/NN\n",
      "  a/DT\n",
      "  full/JJ\n",
      "  flight/NN\n",
      "  shortly/RB\n",
      "  before/IN\n",
      "  the/DT\n",
      "  flight/NN\n",
      "  was/VBD\n",
      "  due/JJ\n",
      "  to/TO\n",
      "  depart/VB\n",
      "  ./.\n",
      "  There/EX\n",
      "  had/VBD\n",
      "  been/VBN\n",
      "  no/RB\n",
      "  previous/JJ\n",
      "  announcement/NN\n",
      "  of/IN\n",
      "  the/DT\n",
      "  delay/NN\n",
      "  ./.\n",
      "  Once/RB\n",
      "  on/IN\n",
      "  board/NN\n",
      "  the/DT\n",
      "  captain/NN\n",
      "  blamed/VBD\n",
      "  (GPE Frankfurt/NNP)\n",
      "  ground/NN\n",
      "  staff/NN\n",
      "  for/IN\n",
      "  delaying/VBG\n",
      "  takeoff/NN\n",
      "  when/WRB\n",
      "  clearly/RB\n",
      "  late/RB\n",
      "  boarding/NN\n",
      "  had/VBD\n",
      "  resulted/VBN\n",
      "  in/IN\n",
      "  a/DT\n",
      "  missed/JJ\n",
      "  departure/NN\n",
      "  slot/NN\n",
      "  ./.)\n"
     ]
    }
   ],
   "source": [
    "# puts the tagged info into chunks \n",
    "entities = nltk.chunk.ne_chunk(tagged)\n",
    "entities.pprint()"
   ]
  },
  {
   "cell_type": "markdown",
   "metadata": {},
   "source": [
    "# vader "
   ]
  },
  {
   "cell_type": "code",
   "execution_count": 14,
   "metadata": {},
   "outputs": [],
   "source": [
    "from nltk.sentiment import SentimentIntensityAnalyzer\n",
    "from tqdm.notebook import tqdm\n",
    "\n",
    "sia = SentimentIntensityAnalyzer()"
   ]
  },
  {
   "cell_type": "code",
   "execution_count": 15,
   "metadata": {},
   "outputs": [
    {
     "data": {
      "text/plain": [
       "{'neg': 0.648, 'neu': 0.352, 'pos': 0.0, 'compound': -0.5697}"
      ]
     },
     "execution_count": 15,
     "metadata": {},
     "output_type": "execute_result"
    }
   ],
   "source": [
    "# example\n",
    "sia.polarity_scores('I am so sad!')"
   ]
  },
  {
   "cell_type": "code",
   "execution_count": 16,
   "metadata": {},
   "outputs": [
    {
     "data": {
      "text/plain": [
       "{'neg': 0.0, 'neu': 0.527, 'pos': 0.473, 'compound': 0.6696}"
      ]
     },
     "execution_count": 16,
     "metadata": {},
     "output_type": "execute_result"
    }
   ],
   "source": [
    "sia.polarity_scores('This is the best thing ever!')"
   ]
  },
  {
   "cell_type": "code",
   "execution_count": 17,
   "metadata": {},
   "outputs": [
    {
     "data": {
      "text/plain": [
       "{'neg': 0.141, 'neu': 0.82, 'pos': 0.039, 'compound': -0.7269}"
      ]
     },
     "execution_count": 17,
     "metadata": {},
     "output_type": "execute_result"
    }
   ],
   "source": [
    "sia.polarity_scores(example)"
   ]
  },
  {
   "cell_type": "code",
   "execution_count": 26,
   "metadata": {},
   "outputs": [
    {
     "data": {
      "application/vnd.jupyter.widget-view+json": {
       "model_id": "9d614b7845f0429e8ca7e1c74203b871",
       "version_major": 2,
       "version_minor": 0
      },
      "text/plain": [
       "HBox(children=(FloatProgress(value=0.0, max=1000.0), HTML(value='')))"
      ]
     },
     "metadata": {},
     "output_type": "display_data"
    },
    {
     "name": "stdout",
     "output_type": "stream",
     "text": [
      "\n"
     ]
    }
   ],
   "source": [
    "results = {}\n",
    "for i, row in tqdm(df.iterrows(), total =len(df)):\n",
    "    text = row['reviews']\n",
    "    myid = row['id']\n",
    "    results[myid] = sia.polarity_scores(text)"
   ]
  },
  {
   "cell_type": "code",
   "execution_count": 27,
   "metadata": {},
   "outputs": [
    {
     "data": {
      "text/html": [
       "<div>\n",
       "<style scoped>\n",
       "    .dataframe tbody tr th:only-of-type {\n",
       "        vertical-align: middle;\n",
       "    }\n",
       "\n",
       "    .dataframe tbody tr th {\n",
       "        vertical-align: top;\n",
       "    }\n",
       "\n",
       "    .dataframe thead th {\n",
       "        text-align: right;\n",
       "    }\n",
       "</style>\n",
       "<table border=\"1\" class=\"dataframe\">\n",
       "  <thead>\n",
       "    <tr style=\"text-align: right;\">\n",
       "      <th></th>\n",
       "      <th>id</th>\n",
       "      <th>neg</th>\n",
       "      <th>neu</th>\n",
       "      <th>pos</th>\n",
       "      <th>compound</th>\n",
       "      <th>reviews</th>\n",
       "    </tr>\n",
       "  </thead>\n",
       "  <tbody>\n",
       "    <tr>\n",
       "      <th>0</th>\n",
       "      <td>0</td>\n",
       "      <td>0.056</td>\n",
       "      <td>0.944</td>\n",
       "      <td>0.000</td>\n",
       "      <td>-0.4588</td>\n",
       "      <td>✅ Trip Verified | Our connecting flight from L...</td>\n",
       "    </tr>\n",
       "    <tr>\n",
       "      <th>1</th>\n",
       "      <td>1</td>\n",
       "      <td>0.138</td>\n",
       "      <td>0.793</td>\n",
       "      <td>0.069</td>\n",
       "      <td>-0.5924</td>\n",
       "      <td>✅ Trip Verified |   The worst airline I have e...</td>\n",
       "    </tr>\n",
       "    <tr>\n",
       "      <th>2</th>\n",
       "      <td>2</td>\n",
       "      <td>0.000</td>\n",
       "      <td>0.673</td>\n",
       "      <td>0.327</td>\n",
       "      <td>0.9939</td>\n",
       "      <td>✅ Trip Verified |   Excellent service levels, ...</td>\n",
       "    </tr>\n",
       "    <tr>\n",
       "      <th>3</th>\n",
       "      <td>3</td>\n",
       "      <td>0.074</td>\n",
       "      <td>0.845</td>\n",
       "      <td>0.081</td>\n",
       "      <td>0.7855</td>\n",
       "      <td>Not Verified |  Booked a very special holiday ...</td>\n",
       "    </tr>\n",
       "    <tr>\n",
       "      <th>4</th>\n",
       "      <td>4</td>\n",
       "      <td>0.109</td>\n",
       "      <td>0.720</td>\n",
       "      <td>0.171</td>\n",
       "      <td>0.8441</td>\n",
       "      <td>Not Verified | Just returned from Chicago, fle...</td>\n",
       "    </tr>\n",
       "    <tr>\n",
       "      <th>...</th>\n",
       "      <td>...</td>\n",
       "      <td>...</td>\n",
       "      <td>...</td>\n",
       "      <td>...</td>\n",
       "      <td>...</td>\n",
       "      <td>...</td>\n",
       "    </tr>\n",
       "    <tr>\n",
       "      <th>995</th>\n",
       "      <td>995</td>\n",
       "      <td>0.038</td>\n",
       "      <td>0.897</td>\n",
       "      <td>0.065</td>\n",
       "      <td>0.7140</td>\n",
       "      <td>✅ Trip Verified |  Sydney to London via Singap...</td>\n",
       "    </tr>\n",
       "    <tr>\n",
       "      <th>996</th>\n",
       "      <td>996</td>\n",
       "      <td>0.033</td>\n",
       "      <td>0.778</td>\n",
       "      <td>0.188</td>\n",
       "      <td>0.9652</td>\n",
       "      <td>✅ Trip Verified |  Johannesburg to London. In ...</td>\n",
       "    </tr>\n",
       "    <tr>\n",
       "      <th>997</th>\n",
       "      <td>997</td>\n",
       "      <td>0.158</td>\n",
       "      <td>0.689</td>\n",
       "      <td>0.153</td>\n",
       "      <td>-0.1280</td>\n",
       "      <td>✅ Trip Verified |  Antigua to Gatwick. One of ...</td>\n",
       "    </tr>\n",
       "    <tr>\n",
       "      <th>998</th>\n",
       "      <td>998</td>\n",
       "      <td>0.190</td>\n",
       "      <td>0.772</td>\n",
       "      <td>0.038</td>\n",
       "      <td>-0.8807</td>\n",
       "      <td>✅ Trip Verified |  Gatwick to Barbados. First ...</td>\n",
       "    </tr>\n",
       "    <tr>\n",
       "      <th>999</th>\n",
       "      <td>999</td>\n",
       "      <td>0.074</td>\n",
       "      <td>0.852</td>\n",
       "      <td>0.074</td>\n",
       "      <td>0.6064</td>\n",
       "      <td>✅ Trip Verified |  Cape Town to London. Very u...</td>\n",
       "    </tr>\n",
       "  </tbody>\n",
       "</table>\n",
       "<p>1000 rows × 6 columns</p>\n",
       "</div>"
      ],
      "text/plain": [
       "      id    neg    neu    pos  compound  \\\n",
       "0      0  0.056  0.944  0.000   -0.4588   \n",
       "1      1  0.138  0.793  0.069   -0.5924   \n",
       "2      2  0.000  0.673  0.327    0.9939   \n",
       "3      3  0.074  0.845  0.081    0.7855   \n",
       "4      4  0.109  0.720  0.171    0.8441   \n",
       "..   ...    ...    ...    ...       ...   \n",
       "995  995  0.038  0.897  0.065    0.7140   \n",
       "996  996  0.033  0.778  0.188    0.9652   \n",
       "997  997  0.158  0.689  0.153   -0.1280   \n",
       "998  998  0.190  0.772  0.038   -0.8807   \n",
       "999  999  0.074  0.852  0.074    0.6064   \n",
       "\n",
       "                                               reviews  \n",
       "0    ✅ Trip Verified | Our connecting flight from L...  \n",
       "1    ✅ Trip Verified |   The worst airline I have e...  \n",
       "2    ✅ Trip Verified |   Excellent service levels, ...  \n",
       "3    Not Verified |  Booked a very special holiday ...  \n",
       "4    Not Verified | Just returned from Chicago, fle...  \n",
       "..                                                 ...  \n",
       "995  ✅ Trip Verified |  Sydney to London via Singap...  \n",
       "996  ✅ Trip Verified |  Johannesburg to London. In ...  \n",
       "997  ✅ Trip Verified |  Antigua to Gatwick. One of ...  \n",
       "998  ✅ Trip Verified |  Gatwick to Barbados. First ...  \n",
       "999  ✅ Trip Verified |  Cape Town to London. Very u...  \n",
       "\n",
       "[1000 rows x 6 columns]"
      ]
     },
     "execution_count": 27,
     "metadata": {},
     "output_type": "execute_result"
    }
   ],
   "source": [
    "# sentiment score and metadata\n",
    "vaders = pd.DataFrame(results).T\n",
    "vaders = vaders.reset_index().rename(columns = {'index': 'id'})\n",
    "vaders = vaders.merge(df, how='left')\n",
    "vaders"
   ]
  },
  {
   "cell_type": "code",
   "execution_count": 38,
   "metadata": {},
   "outputs": [
    {
     "data": {
      "text/plain": [
       "count    1000.000000\n",
       "mean        0.034414\n",
       "std         0.785380\n",
       "min        -0.997400\n",
       "25%        -0.785200\n",
       "50%         0.000000\n",
       "75%         0.902125\n",
       "max         0.999200\n",
       "Name: compound, dtype: float64"
      ]
     },
     "execution_count": 38,
     "metadata": {},
     "output_type": "execute_result"
    }
   ],
   "source": [
    "comp = vaders['compound'].describe()\n",
    "comp"
   ]
  },
  {
   "cell_type": "code",
   "execution_count": 39,
   "metadata": {},
   "outputs": [
    {
     "data": {
      "text/plain": [
       "count    1000.000000\n",
       "mean        0.103091\n",
       "std         0.088392\n",
       "min         0.000000\n",
       "25%         0.040750\n",
       "50%         0.077000\n",
       "75%         0.146250\n",
       "max         0.479000\n",
       "Name: pos, dtype: float64"
      ]
     },
     "execution_count": 39,
     "metadata": {},
     "output_type": "execute_result"
    }
   ],
   "source": [
    "pos = vaders['pos'].describe()\n",
    "pos"
   ]
  },
  {
   "cell_type": "code",
   "execution_count": 41,
   "metadata": {},
   "outputs": [
    {
     "data": {
      "text/plain": [
       "count    1000.000000\n",
       "mean        0.082746\n",
       "std         0.058480\n",
       "min         0.000000\n",
       "25%         0.039750\n",
       "50%         0.074000\n",
       "75%         0.115000\n",
       "max         0.338000\n",
       "Name: neg, dtype: float64"
      ]
     },
     "execution_count": 41,
     "metadata": {},
     "output_type": "execute_result"
    }
   ],
   "source": [
    "neg = vaders['neg'].describe()\n",
    "neg"
   ]
  },
  {
   "cell_type": "code",
   "execution_count": 35,
   "metadata": {},
   "outputs": [
    {
     "data": {
      "text/plain": [
       "Index(['id', 'neg', 'neu', 'pos', 'compound', 'reviews'], dtype='object')"
      ]
     },
     "execution_count": 35,
     "metadata": {},
     "output_type": "execute_result"
    }
   ],
   "source": [
    "vaders.columns"
   ]
  },
  {
   "cell_type": "code",
   "execution_count": 42,
   "metadata": {},
   "outputs": [
    {
     "data": {
      "image/png": "[encoded data removed]",
      "text/plain": [
       "<Figure size 432x288 with 1 Axes>"
      ]
     },
     "metadata": {
      "needs_background": "light"
     },
     "output_type": "display_data"
    }
   ],
   "source": [
    "# Plotting the histogram\n",
    "plt.hist(vaders['compound'], bins=10, edgecolor='black')\n",
    "\n",
    "# Adding labels and title\n",
    "plt.xlabel('Sentiment Score')\n",
    "plt.ylabel('Frequency')\n",
    "plt.title('Distribution of Sentiment Scores')\n",
    "\n",
    "# Displaying the plot\n",
    "plt.show()"
   ]
  },
  {
   "cell_type": "code",
   "execution_count": 52,
   "metadata": {},
   "outputs": [
    {
     "data": {
      "text/html": [
       "<div>\n",
       "<style scoped>\n",
       "    .dataframe tbody tr th:only-of-type {\n",
       "        vertical-align: middle;\n",
       "    }\n",
       "\n",
       "    .dataframe tbody tr th {\n",
       "        vertical-align: top;\n",
       "    }\n",
       "\n",
       "    .dataframe thead th {\n",
       "        text-align: right;\n",
       "    }\n",
       "</style>\n",
       "<table border=\"1\" class=\"dataframe\">\n",
       "  <thead>\n",
       "    <tr style=\"text-align: right;\">\n",
       "      <th></th>\n",
       "      <th>id</th>\n",
       "      <th>neg</th>\n",
       "      <th>neu</th>\n",
       "      <th>pos</th>\n",
       "      <th>compound</th>\n",
       "      <th>reviews</th>\n",
       "      <th>positive_sentiments</th>\n",
       "      <th>negative_sentiments</th>\n",
       "    </tr>\n",
       "  </thead>\n",
       "  <tbody>\n",
       "    <tr>\n",
       "      <th>0</th>\n",
       "      <td>0</td>\n",
       "      <td>0.056</td>\n",
       "      <td>0.944</td>\n",
       "      <td>0.000</td>\n",
       "      <td>-0.4588</td>\n",
       "      <td>✅ Trip Verified | Our connecting flight from L...</td>\n",
       "      <td>False</td>\n",
       "      <td>True</td>\n",
       "    </tr>\n",
       "    <tr>\n",
       "      <th>1</th>\n",
       "      <td>1</td>\n",
       "      <td>0.138</td>\n",
       "      <td>0.793</td>\n",
       "      <td>0.069</td>\n",
       "      <td>-0.5924</td>\n",
       "      <td>✅ Trip Verified |   The worst airline I have e...</td>\n",
       "      <td>False</td>\n",
       "      <td>True</td>\n",
       "    </tr>\n",
       "    <tr>\n",
       "      <th>2</th>\n",
       "      <td>2</td>\n",
       "      <td>0.000</td>\n",
       "      <td>0.673</td>\n",
       "      <td>0.327</td>\n",
       "      <td>0.9939</td>\n",
       "      <td>✅ Trip Verified |   Excellent service levels, ...</td>\n",
       "      <td>True</td>\n",
       "      <td>False</td>\n",
       "    </tr>\n",
       "    <tr>\n",
       "      <th>3</th>\n",
       "      <td>3</td>\n",
       "      <td>0.074</td>\n",
       "      <td>0.845</td>\n",
       "      <td>0.081</td>\n",
       "      <td>0.7855</td>\n",
       "      <td>Not Verified |  Booked a very special holiday ...</td>\n",
       "      <td>True</td>\n",
       "      <td>False</td>\n",
       "    </tr>\n",
       "    <tr>\n",
       "      <th>4</th>\n",
       "      <td>4</td>\n",
       "      <td>0.109</td>\n",
       "      <td>0.720</td>\n",
       "      <td>0.171</td>\n",
       "      <td>0.8441</td>\n",
       "      <td>Not Verified | Just returned from Chicago, fle...</td>\n",
       "      <td>True</td>\n",
       "      <td>False</td>\n",
       "    </tr>\n",
       "    <tr>\n",
       "      <th>...</th>\n",
       "      <td>...</td>\n",
       "      <td>...</td>\n",
       "      <td>...</td>\n",
       "      <td>...</td>\n",
       "      <td>...</td>\n",
       "      <td>...</td>\n",
       "      <td>...</td>\n",
       "      <td>...</td>\n",
       "    </tr>\n",
       "    <tr>\n",
       "      <th>995</th>\n",
       "      <td>995</td>\n",
       "      <td>0.038</td>\n",
       "      <td>0.897</td>\n",
       "      <td>0.065</td>\n",
       "      <td>0.7140</td>\n",
       "      <td>✅ Trip Verified |  Sydney to London via Singap...</td>\n",
       "      <td>True</td>\n",
       "      <td>False</td>\n",
       "    </tr>\n",
       "    <tr>\n",
       "      <th>996</th>\n",
       "      <td>996</td>\n",
       "      <td>0.033</td>\n",
       "      <td>0.778</td>\n",
       "      <td>0.188</td>\n",
       "      <td>0.9652</td>\n",
       "      <td>✅ Trip Verified |  Johannesburg to London. In ...</td>\n",
       "      <td>True</td>\n",
       "      <td>False</td>\n",
       "    </tr>\n",
       "    <tr>\n",
       "      <th>997</th>\n",
       "      <td>997</td>\n",
       "      <td>0.158</td>\n",
       "      <td>0.689</td>\n",
       "      <td>0.153</td>\n",
       "      <td>-0.1280</td>\n",
       "      <td>✅ Trip Verified |  Antigua to Gatwick. One of ...</td>\n",
       "      <td>False</td>\n",
       "      <td>True</td>\n",
       "    </tr>\n",
       "    <tr>\n",
       "      <th>998</th>\n",
       "      <td>998</td>\n",
       "      <td>0.190</td>\n",
       "      <td>0.772</td>\n",
       "      <td>0.038</td>\n",
       "      <td>-0.8807</td>\n",
       "      <td>✅ Trip Verified |  Gatwick to Barbados. First ...</td>\n",
       "      <td>False</td>\n",
       "      <td>True</td>\n",
       "    </tr>\n",
       "    <tr>\n",
       "      <th>999</th>\n",
       "      <td>999</td>\n",
       "      <td>0.074</td>\n",
       "      <td>0.852</td>\n",
       "      <td>0.074</td>\n",
       "      <td>0.6064</td>\n",
       "      <td>✅ Trip Verified |  Cape Town to London. Very u...</td>\n",
       "      <td>True</td>\n",
       "      <td>False</td>\n",
       "    </tr>\n",
       "  </tbody>\n",
       "</table>\n",
       "<p>1000 rows × 8 columns</p>\n",
       "</div>"
      ],
      "text/plain": [
       "      id    neg    neu    pos  compound  \\\n",
       "0      0  0.056  0.944  0.000   -0.4588   \n",
       "1      1  0.138  0.793  0.069   -0.5924   \n",
       "2      2  0.000  0.673  0.327    0.9939   \n",
       "3      3  0.074  0.845  0.081    0.7855   \n",
       "4      4  0.109  0.720  0.171    0.8441   \n",
       "..   ...    ...    ...    ...       ...   \n",
       "995  995  0.038  0.897  0.065    0.7140   \n",
       "996  996  0.033  0.778  0.188    0.9652   \n",
       "997  997  0.158  0.689  0.153   -0.1280   \n",
       "998  998  0.190  0.772  0.038   -0.8807   \n",
       "999  999  0.074  0.852  0.074    0.6064   \n",
       "\n",
       "                                               reviews  positive_sentiments  \\\n",
       "0    ✅ Trip Verified | Our connecting flight from L...                False   \n",
       "1    ✅ Trip Verified |   The worst airline I have e...                False   \n",
       "2    ✅ Trip Verified |   Excellent service levels, ...                 True   \n",
       "3    Not Verified |  Booked a very special holiday ...                 True   \n",
       "4    Not Verified | Just returned from Chicago, fle...                 True   \n",
       "..                                                 ...                  ...   \n",
       "995  ✅ Trip Verified |  Sydney to London via Singap...                 True   \n",
       "996  ✅ Trip Verified |  Johannesburg to London. In ...                 True   \n",
       "997  ✅ Trip Verified |  Antigua to Gatwick. One of ...                False   \n",
       "998  ✅ Trip Verified |  Gatwick to Barbados. First ...                False   \n",
       "999  ✅ Trip Verified |  Cape Town to London. Very u...                 True   \n",
       "\n",
       "     negative_sentiments  \n",
       "0                   True  \n",
       "1                   True  \n",
       "2                  False  \n",
       "3                  False  \n",
       "4                  False  \n",
       "..                   ...  \n",
       "995                False  \n",
       "996                False  \n",
       "997                 True  \n",
       "998                 True  \n",
       "999                False  \n",
       "\n",
       "[1000 rows x 8 columns]"
      ]
     },
     "execution_count": 52,
     "metadata": {},
     "output_type": "execute_result"
    }
   ],
   "source": [
    "# creating a column for positive sentiments and negtive sentiments\n",
    "vaders['positive_sentiments'] = vaders['compound'] > 0\n",
    "vaders"
   ]
  },
  {
   "cell_type": "code",
   "execution_count": 54,
   "metadata": {},
   "outputs": [
    {
     "name": "stdout",
     "output_type": "stream",
     "text": [
      "Number of positive reviews:  499\n",
      "Number of negative reviews:  501\n"
     ]
    }
   ],
   "source": [
    "positive_count = vaders['positive_sentiments'].sum()\n",
    "negative_count = len(vaders) - positive_count\n",
    "\n",
    "print(\"Number of positive reviews: \", positive_count)\n",
    "print(\"Number of negative reviews: \", negative_count)"
   ]
  },
  {
   "cell_type": "code",
   "execution_count": null,
   "metadata": {},
   "outputs": [],
   "source": []
  }
 ],
 "metadata": {
  "kernelspec": {
   "display_name": "Python 3",
   "language": "python",
   "name": "python3"
  },
  "language_info": {
   "codemirror_mode": {
    "name": "ipython",
    "version": 3
   },
   "file_extension": ".py",
   "mimetype": "text/x-python",
   "name": "python",
   "nbconvert_exporter": "python",
   "pygments_lexer": "ipython3",
   "version": "3.7.6"
  }
 },
 "nbformat": 4,
 "nbformat_minor": 4
}
